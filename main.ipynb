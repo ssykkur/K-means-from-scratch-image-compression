{
 "cells": [
  {
   "cell_type": "code",
   "execution_count": 2,
   "metadata": {},
   "outputs": [],
   "source": [
    "import numpy as np\n",
    "import matplotlib.pyplot as plt\n",
    "from utils import *\n"
   ]
  },
  {
   "cell_type": "code",
   "execution_count": null,
   "metadata": {},
   "outputs": [],
   "source": [
    "X = load_data()"
   ]
  },
  {
   "cell_type": "markdown",
   "metadata": {},
   "source": [
    "Basic implementation of K-means consist of a procedure that first guesses (rather randomly generates) the intiial centroids then starts a loop of 1. repeatedly assigning training examples to their closest centroid, then 2. recomputing the centroids based x\\y mean.\n"
   ]
  },
  {
   "cell_type": "code",
   "execution_count": 3,
   "metadata": {},
   "outputs": [],
   "source": [
    "def find_closest_centroids(X, centroids):\n",
    "\n",
    "    K = centroids.shape[0]\n",
    "    m = X.shape[0]\n",
    "    \n",
    "    idx = np.zeros(m)\n",
    "    distance = np.zeros((m, K))\n",
    "    for i in range(m):\n",
    "        for j in range(K):\n",
    "            distance[i, j] = np.linalg.norm(X[i] - centroids[j])\n",
    "\n",
    "    idx = np.argmin(distance, axis=1)\n",
    "    return idx"
   ]
  },
  {
   "cell_type": "code",
   "execution_count": null,
   "metadata": {},
   "outputs": [],
   "source": [
    "print(\"First five elements of X are:\\n\", X[:5]) \n",
    "print('The shape of X is:', X.shape)"
   ]
  }
 ],
 "metadata": {
  "kernelspec": {
   "display_name": "tf",
   "language": "python",
   "name": "python3"
  },
  "language_info": {
   "codemirror_mode": {
    "name": "ipython",
    "version": 3
   },
   "file_extension": ".py",
   "mimetype": "text/x-python",
   "name": "python",
   "nbconvert_exporter": "python",
   "pygments_lexer": "ipython3",
   "version": "3.9.20"
  }
 },
 "nbformat": 4,
 "nbformat_minor": 2
}
